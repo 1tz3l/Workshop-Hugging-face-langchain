{
 "cells": [
  {
   "cell_type": "markdown",
   "id": "c77b8586",
   "metadata": {},
   "source": [
    "# **Imports**"
   ]
  },
  {
   "cell_type": "code",
   "execution_count": null,
   "id": "1035bbee",
   "metadata": {},
   "outputs": [
    {
     "data": {
      "text/plain": [
       "True"
      ]
     },
     "execution_count": 7,
     "metadata": {},
     "output_type": "execute_result"
    }
   ],
   "source": [
    "import os\n",
    "\n",
    "from dotenv import load_dotenv\n",
    "from pydantic import BaseModel, Field\n",
    "from langchain_ollama import ChatOllama\n",
    "from langchain_openai import ChatOpenAI\n",
    "from langchain.prompts import PromptTemplate\n",
    "from langchain.output_parsers import PydanticOutputParser\n",
    "from langchain.document_loaders import PyPDFLoader\n",
    "from typing import List, Optional\n",
    "from pydantic import BaseModel\n",
    "\n",
    "load_dotenv()\n"
   ]
  },
  {
   "cell_type": "markdown",
   "id": "c6741687",
   "metadata": {},
   "source": [
    "## **Example of Ai Agent**"
   ]
  },
  {
   "cell_type": "code",
   "execution_count": 5,
   "id": "c814745a",
   "metadata": {},
   "outputs": [
    {
     "name": "stdout",
     "output_type": "stream",
     "text": [
      "\n",
      "\n",
      "\u001b[1m> Entering new AgentExecutor chain...\u001b[0m\n",
      "\u001b[32;1m\u001b[1;3m\n",
      "Invoking: `AdditionTool` with `10 5`\n",
      "\n",
      "\n",
      "\u001b[0m\u001b[36;1m\u001b[1;3m15\u001b[0m\u001b[32;1m\u001b[1;3mThe sum of 10 and 5 is 15.\u001b[0m\n",
      "\n",
      "\u001b[1m> Finished chain.\u001b[0m\n",
      "Result: The sum of 10 and 5 is 15.\n",
      "\n",
      "\n",
      "\u001b[1m> Entering new AgentExecutor chain...\u001b[0m\n",
      "\u001b[32;1m\u001b[1;3m\n",
      "Invoking: `MultiplicationTool` with `4 3 2`\n",
      "\n",
      "\n",
      "\u001b[0m\u001b[33;1m\u001b[1;3m24\u001b[0m\u001b[32;1m\u001b[1;3mThe result of multiplying 4, 3, and 2 is 24.\u001b[0m\n",
      "\n",
      "\u001b[1m> Finished chain.\u001b[0m\n",
      "Result: The result of multiplying 4, 3, and 2 is 24.\n"
     ]
    }
   ],
   "source": [
    "from langchain.agents import Tool, tool\n",
    "from langchain_ollama import ChatOllama\n",
    "from langchain_openai import ChatOpenAI\n",
    "from langchain import hub\n",
    "from langchain.agents import create_tool_calling_agent\n",
    "from langchain.agents import AgentExecutor\n",
    "\n",
    "# --- Tool definitions ---\n",
    "def sum_numbers(input: str) -> str:\n",
    "    numbers = list(map(int, input.split()))\n",
    "    return str(sum(numbers))\n",
    "\n",
    "def multiply_numbers(input: str) -> str:\n",
    "    numbers = list(map(int, input.split()))\n",
    "    result = 1\n",
    "    for num in numbers:\n",
    "        result *= num\n",
    "    return str(result)\n",
    "\n",
    "tools = [\n",
    "    Tool(\n",
    "        name=\"AdditionTool\",\n",
    "        func=sum_numbers,\n",
    "        description=\"Use this to add numbers. Input should be space-separated numbers like '2 3 5'.\"\n",
    "    ),\n",
    "    Tool(\n",
    "        name=\"MultiplicationTool\",\n",
    "        func=multiply_numbers,\n",
    "        description=\"Use this to multiply numbers. Input should be space-separated numbers like '2 3 5'.\"\n",
    "    ),\n",
    "]\n",
    "\n",
    "# --- Prompt Template ---\n",
    "prompt = hub.pull(\"hwchase17/openai-functions-agent\")\n",
    "\n",
    "# --- LLM and Agent Setup ---\n",
    "llm = ChatOpenAI(model=\"gpt-4.1-nano\")\n",
    "agent = create_tool_calling_agent(llm, tools, prompt)\n",
    "executor = AgentExecutor(agent=agent, tools=tools, verbose=True)\n",
    "\n",
    "# --- Run the agent ---\n",
    "result = executor.invoke({\"input\": \"Please add 10 and 5\"})\n",
    "print(\"Result:\", result[\"output\"])\n",
    "\n",
    "result2 = executor.invoke({\"input\": \"Now multiply 4 and 3 and 2\"})\n",
    "print(\"Result:\", result2[\"output\"])\n"
   ]
  },
  {
   "cell_type": "code",
   "execution_count": null,
   "id": "41eefd2d",
   "metadata": {},
   "outputs": [],
   "source": [
    "import os\n",
    "\n",
    "from dotenv import load_dotenv\n",
    "from langchain.output_parsers import PydanticOutputParser\n",
    "from langchain_google_vertexai import ChatVertexAI\n",
    "from langchain.prompts import PromptTemplate\n",
    "from typing import Literal\n",
    "\n",
    "load_dotenv()\n",
    "\n",
    "\n",
    "\n",
    "\n",
    "class RouterAgentOutput(BaseModel):\n",
    "    next_step: Literal[\n",
    "        \"hospital_agent\", \"movie_agent\", \"conversation\", \"document_retrieval\"\n",
    "    ] = Field(\n",
    "        description=\"Determines which agent should handle the request next, if the user ask for a specific document related question use the: document_retrieval\",\n",
    "        examples=[\n",
    "            \"hospital_agent\",\n",
    "            \"movie_agent\",\n",
    "            \"conversation\",\n",
    "            \"document_retrieval\",\n",
    "        ],\n",
    "    )\n",
    "\n",
    "ROUTER_TEMPLATE = \"\"\"You are a router agent responsible for directing user queries to the appropriate service. \n",
    "Given a user request, classify it\n",
    "QUERY: {query}\n",
    "\n",
    "FORMAT_INSTRUCTIONS: {format_instructions}\"\"\"\n",
    "\n",
    "\n",
    "\n",
    "OUTPUT_PARSER = PydanticOutputParser(pydantic_object=RouterAgentOutput)\n",
    "PROMPT_FORMAT = PromptTemplate(\n",
    "    template=ROUTER_TEMPLATE,\n",
    "    input_variables=[\"query\"],\n",
    "    partial_variables={\"format_instructions\": OUTPUT_PARSER.get_format_instructions()},\n",
    ")\n",
    "\n",
    "\n",
    "class RouterAgent:\n",
    "    def __init__(\n",
    "        self, model: str = \"gemini-2.0-flash-lite\", temperature: float = 0.5, open=False\n",
    "    ):\n",
    "        llm = ChatVertexAI(model=model, temperature=temperature)\n",
    "        self.chain = PROMPT_FORMAT | llm | OUTPUT_PARSER\n",
    "\n",
    "    def invoke(self, query: str):\n",
    "        return self.chain.invoke({\"query\": query})\n"
   ]
  }
 ],
 "metadata": {
  "kernelspec": {
   "display_name": "venv",
   "language": "python",
   "name": "python3"
  },
  "language_info": {
   "codemirror_mode": {
    "name": "ipython",
    "version": 3
   },
   "file_extension": ".py",
   "mimetype": "text/x-python",
   "name": "python",
   "nbconvert_exporter": "python",
   "pygments_lexer": "ipython3",
   "version": "3.13.3"
  }
 },
 "nbformat": 4,
 "nbformat_minor": 5
}
